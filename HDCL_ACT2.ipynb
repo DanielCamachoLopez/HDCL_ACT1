{
  "nbformat": 4,
  "nbformat_minor": 0,
  "metadata": {
    "colab": {
      "provenance": [],
      "authorship_tag": "ABX9TyM4hSOSqZmnty227wx9iK9o",
      "include_colab_link": true
    },
    "kernelspec": {
      "name": "python3",
      "display_name": "Python 3"
    },
    "language_info": {
      "name": "python"
    }
  },
  "cells": [
    {
      "cell_type": "markdown",
      "metadata": {
        "id": "view-in-github",
        "colab_type": "text"
      },
      "source": [
        "<a href=\"https://colab.research.google.com/github/DanielCamachoLopez/HDCL_ACT1/blob/main/HDCL_ACT2.ipynb\" target=\"_parent\"><img src=\"https://colab.research.google.com/assets/colab-badge.svg\" alt=\"Open In Colab\"/></a>"
      ]
    },
    {
      "cell_type": "markdown",
      "source": [
        "#ACTIVIDAD 2\n",
        "Nombre: Hector Daniel Camacho Lopez\n",
        "\n",
        "Matricula: 372239\n",
        "\n",
        "Grupo: 432\n",
        "\n",
        "Fecha: 22 de Agosto de 2023"
      ],
      "metadata": {
        "id": "6jzzifQ0MIHk"
      }
    },
    {
      "cell_type": "markdown",
      "source": [
        "1.- Programa en Python que lee 2 números enteros, usa una condición y analizar los dos números y despliega cual de los números es el mayor"
      ],
      "metadata": {
        "id": "5whctcsOMfXW"
      }
    },
    {
      "cell_type": "code",
      "execution_count": null,
      "metadata": {
        "colab": {
          "base_uri": "https://localhost:8080/"
        },
        "id": "kGP2fnvmL8rC",
        "outputId": "da143385-75c5-48dc-9a0d-4ffa2452a3a3"
      },
      "outputs": [
        {
          "output_type": "stream",
          "name": "stdout",
          "text": [
            "Deme dos numeros distintos:\n",
            "Deme el primer numero: 10\n",
            "Deme el segundo numero: 4\n",
            "El numero mayor es 10.0\n"
          ]
        }
      ],
      "source": [
        "print(\"Deme dos numeros distintos:\" )\n",
        "num1 = float(input(\"Deme el primer numero: \"))\n",
        "num2 = float(input(\"Deme el segundo numero: \"))\n",
        "if num1 < num2:\n",
        "  print(f\"El numero mayor es {num2}\")\n",
        "if num1 > num2:\n",
        "  print(f\"El numero mayor es {num1}\")"
      ]
    },
    {
      "cell_type": "markdown",
      "source": [
        "2.- Programa en Python que lee 4 calificaciones de un alumno, calcula y despliega el promedio acompañado de la leyenda \"APROBADO\" o \"REPROBADO\""
      ],
      "metadata": {
        "id": "Rbcsi1WNOAvi"
      }
    },
    {
      "cell_type": "code",
      "source": [
        "print(\"Calculando promedio del alumno\")\n",
        "cali1 = float(input(\"Cual es la primera calificacion?\"))\n",
        "cali2 = float(input(\"Cual es la segunda calificacion?\"))\n",
        "cali3 = float(input(\"Cual es la tercera calificacion?\"))\n",
        "cali4 = float(input(\"Cual es la cuarta calificacion?\"))\n",
        "prom = (cali1 + cali2 + cali3 + cali4) / 4\n",
        "if prom < 60:\n",
        "  print(f\"REPROBADO - Promedio: {prom}\")\n",
        "if prom >= 60:\n",
        "  print(f\"APROBADO - Promedio: {prom}\")"
      ],
      "metadata": {
        "colab": {
          "base_uri": "https://localhost:8080/"
        },
        "id": "8XO2BXrrOr-i",
        "outputId": "0b5d62eb-6da0-4012-faab-fb090b7902df"
      },
      "execution_count": null,
      "outputs": [
        {
          "output_type": "stream",
          "name": "stdout",
          "text": [
            "Calculando promedio del alumno\n",
            "Cual es la primera calificacion?60\n",
            "Cual es la segunda calificacion?60\n",
            "Cual es la tercera calificacion?60\n",
            "Cual es la cuarta calificacion?60\n",
            "APROBADO - Promedio: 60.0\n"
          ]
        }
      ]
    },
    {
      "cell_type": "markdown",
      "source": [
        "3.- Programa en Python que a través de opciones (1.- HOMBRE 2.- MUJER ) pregunta al usuario cual es su sexo y desplega la leyenda “HOMBRE ”, “MUJER”"
      ],
      "metadata": {
        "id": "Y1jNoxpGTWd3"
      }
    },
    {
      "cell_type": "code",
      "source": [
        "print(\"Elije uno de los dos numeros dependiendo si eres hombre o mujer:\")\n",
        "print(\"1-Hombre\")\n",
        "print(\"2-Mujer\")\n",
        "sexo = int(input(\"Elige un numero: \"))\n",
        "if sexo == 1:\n",
        "  print(\"Eres Hombre\")\n",
        "if sexo == 2:\n",
        "  print(\"Eres Mujer\")"
      ],
      "metadata": {
        "colab": {
          "base_uri": "https://localhost:8080/"
        },
        "id": "FT8AvVfWS4qW",
        "outputId": "ec955038-ff67-41cd-bdd7-949611bd7c2b"
      },
      "execution_count": null,
      "outputs": [
        {
          "output_type": "stream",
          "name": "stdout",
          "text": [
            "Elije uno de los dos numeros dependiendo si eres hombre o mujer:\n",
            "1-Hombre\n",
            "2-Mujer\n",
            "Elige un numero: 1\n",
            "Eres Hombre\n"
          ]
        }
      ]
    },
    {
      "cell_type": "markdown",
      "source": [
        "4.- Programa en Python que lee un número entero, y despliega si el número es “PAR” o “IMPAR”"
      ],
      "metadata": {
        "id": "TX_pSlJmdtzI"
      }
    },
    {
      "cell_type": "code",
      "source": [
        "num = int(input(\"Digita un numero entero: \"))\n",
        "if num%2 == 0:\n",
        "  print(\"El numero que digito es par\")\n",
        "if num%2 == 1:\n",
        "  print(\"El numero que digito es impar\")"
      ],
      "metadata": {
        "colab": {
          "base_uri": "https://localhost:8080/"
        },
        "id": "RnxjM-w8ecQ2",
        "outputId": "d4b53fb3-d1c0-49e9-9783-267ac576dfa0"
      },
      "execution_count": null,
      "outputs": [
        {
          "output_type": "stream",
          "name": "stdout",
          "text": [
            "Digita un numero entero: 112\n",
            "El numero que digito es par\n"
          ]
        }
      ]
    },
    {
      "cell_type": "markdown",
      "source": [
        "5.- Programa en Python que lee 2 números enteros, usa una condición y analiza los dos números y despliega cual de los números es el mayor."
      ],
      "metadata": {
        "id": "gXXQXv1bgNer"
      }
    },
    {
      "cell_type": "code",
      "source": [
        "print(\"Deme dos numeros distintos:\" )\n",
        "num1 = float(input(\"Deme el primer numero: \"))\n",
        "num2 = float(input(\"Deme el segundo numero: \"))\n",
        "if num1 < num2:\n",
        "  print(f\"El numero mayor es {num2}\")\n",
        "else:\n",
        "  print(f\"El numero mayor es {num1}\")"
      ],
      "metadata": {
        "colab": {
          "base_uri": "https://localhost:8080/"
        },
        "id": "GWuAHB5Jgs32",
        "outputId": "eda7dd22-ef7b-40e6-cf73-527149bb61f9"
      },
      "execution_count": null,
      "outputs": [
        {
          "output_type": "stream",
          "name": "stdout",
          "text": [
            "Deme dos numeros distintos:\n",
            "Deme el primer numero: 34\n",
            "Deme el segundo numero: 21\n",
            "El numero mayor es 34.0\n"
          ]
        }
      ]
    },
    {
      "cell_type": "markdown",
      "source": [
        "6.- Programa en Python que lee 4 calificaciones de un alumno, calcula y despliega el promedio acompañado de la leyenda \"APROBADO\" o \"REPROBADO"
      ],
      "metadata": {
        "id": "lPikK7bSipf1"
      }
    },
    {
      "cell_type": "code",
      "source": [
        "print(\"Calculando promedio del alumno\")\n",
        "cali1 = float(input(\"Cual es la primera calificacion?\"))\n",
        "cali2 = float(input(\"Cual es la segunda calificacion?\"))\n",
        "cali3 = float(input(\"Cual es la tercera calificacion?\"))\n",
        "cali4 = float(input(\"Cual es la cuarta calificacion?\"))\n",
        "prom = (cali1 + cali2 + cali3 + cali4) / 4\n",
        "if prom < 60:\n",
        "  print(f\"REPROBADO - Promedio: {prom}\")\n",
        "else:\n",
        "  print(f\"APROBADO - Promedio: {prom}\")"
      ],
      "metadata": {
        "colab": {
          "base_uri": "https://localhost:8080/"
        },
        "id": "uQPLSpZwishB",
        "outputId": "e6a9b309-1086-4d42-d833-b23ef91373ee"
      },
      "execution_count": null,
      "outputs": [
        {
          "output_type": "stream",
          "name": "stdout",
          "text": [
            "Calculando promedio del alumno\n",
            "Cual es la primera calificacion?60\n",
            "Cual es la segunda calificacion?60\n",
            "Cual es la tercera calificacion?60\n",
            "Cual es la cuarta calificacion?60\n",
            "APROBADO - Promedio: 60.0\n"
          ]
        }
      ]
    },
    {
      "cell_type": "markdown",
      "source": [
        "7.- Programa en Python que a través de opciones (1.- HOMBRE 2.- MUJER ) pregunta al usuario cual es su sexo y desplega la leyenda “HOMBRE ”, “MUJER”"
      ],
      "metadata": {
        "id": "SS49nYcIjPEr"
      }
    },
    {
      "cell_type": "code",
      "source": [
        "print(\"Elije uno de los dos numeros dependiendo si eres hombre o mujer:\")\n",
        "print(\"1-Hombre\")\n",
        "print(\"2-Mujer\")\n",
        "sexo = int(input(\"Elige un numero: \"))\n",
        "if sexo == 1:\n",
        "  print(\"Eres Hombre\")\n",
        "else:\n",
        "  print(\"Eres Mujer\")"
      ],
      "metadata": {
        "colab": {
          "base_uri": "https://localhost:8080/"
        },
        "id": "Vvw6obJ1jSsd",
        "outputId": "3126975c-daac-4dac-c9dc-cd18faf86eb1"
      },
      "execution_count": null,
      "outputs": [
        {
          "output_type": "stream",
          "name": "stdout",
          "text": [
            "Elije uno de los dos numeros dependiendo si eres hombre o mujer:\n",
            "1-Hombre\n",
            "2-Mujer\n",
            "Elige un numero: 1\n",
            "Eres Hombre\n"
          ]
        }
      ]
    },
    {
      "cell_type": "markdown",
      "source": [
        "8.- Programa en Python que lee un número entero, y despliega si el número es “PAR” o “IMPAR”\n",
        "\n"
      ],
      "metadata": {
        "id": "yhQdLRmLjkT0"
      }
    },
    {
      "cell_type": "code",
      "source": [
        "num = int(input(\"Digita un numero entero: \"))\n",
        "if num%2 == 0:\n",
        "  print(\"El numero que digito es par\")\n",
        "else:\n",
        "  print(\"El numero que digito es impar\")"
      ],
      "metadata": {
        "colab": {
          "base_uri": "https://localhost:8080/"
        },
        "id": "ke9KqQt7jn2m",
        "outputId": "aecefcdb-b189-4f74-d4a8-03cdc999cf8d"
      },
      "execution_count": null,
      "outputs": [
        {
          "output_type": "stream",
          "name": "stdout",
          "text": [
            "Digita un numero entero: 115\n",
            "El numero que digito es impar\n"
          ]
        }
      ]
    }
  ]
}