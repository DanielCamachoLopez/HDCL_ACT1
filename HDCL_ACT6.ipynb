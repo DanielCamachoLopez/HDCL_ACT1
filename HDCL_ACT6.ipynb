{
  "nbformat": 4,
  "nbformat_minor": 0,
  "metadata": {
    "colab": {
      "provenance": [],
      "authorship_tag": "ABX9TyN4LG8kp4lWZP2p5YjAQ0XX",
      "include_colab_link": true
    },
    "kernelspec": {
      "name": "python3",
      "display_name": "Python 3"
    },
    "language_info": {
      "name": "python"
    }
  },
  "cells": [
    {
      "cell_type": "markdown",
      "metadata": {
        "id": "view-in-github",
        "colab_type": "text"
      },
      "source": [
        "<a href=\"https://colab.research.google.com/github/DanielCamachoLopez/HDCL_ACT1/blob/main/HDCL_ACT6.ipynb\" target=\"_parent\"><img src=\"https://colab.research.google.com/assets/colab-badge.svg\" alt=\"Open In Colab\"/></a>"
      ]
    },
    {
      "cell_type": "markdown",
      "source": [
        "#ACTIVIDAD 6\n",
        "\n",
        "Nombre: Hector Daniel Camacho Lopez\n",
        "\n",
        "Matricula: 372239\n",
        "Grupo: 432\n",
        "\n",
        "Fecha: Ensenada, Baja California a 23 de Septiembre del 2023"
      ],
      "metadata": {
        "id": "k5RZYPcr_o80"
      }
    },
    {
      "cell_type": "markdown",
      "source": [
        "FUNCION QUE VALIDA NUMEROS DENTRO DE UN RANGO DADO"
      ],
      "metadata": {
        "id": "H-FXmiwKfrOd"
      }
    },
    {
      "cell_type": "code",
      "source": [
        "def valida_num(rangoi, rangof, n):\n",
        "  z = 1\n",
        "  if n > rangof:\n",
        "    print(\"El numero sobrepasa el limite del rango\")\n",
        "    z = 0\n",
        "  if n < rangoi:\n",
        "    print(\"El numero es muy pequeño para entrar en el rango\")\n",
        "    z = 0\n",
        "  return z"
      ],
      "metadata": {
        "id": "mtdhrH4BZm-o"
      },
      "execution_count": 1,
      "outputs": []
    },
    {
      "cell_type": "markdown",
      "source": [
        "1.- FUNCIÓN QUE LEA n CANTIDAD DE NÚMEROS HASTA QUE EL USUARIO LO DESEE, DESPLEGAR LA SUMA DE LOS NÚMEROS, MEDIA Y VALOR DE LOS NÚMEROS MAYORES Y MENORES."
      ],
      "metadata": {
        "id": "yGz_1UDJAFXR"
      }
    },
    {
      "cell_type": "code",
      "execution_count": 2,
      "metadata": {
        "id": "HdnlAjyH_n7M",
        "colab": {
          "base_uri": "https://localhost:8080/",
          "height": 0
        },
        "outputId": "82de8479-bf81-47f5-8248-3b59142eb24d"
      },
      "outputs": [
        {
          "output_type": "stream",
          "name": "stdout",
          "text": [
            "Desde que numero deseas que el rango de numeros comience? 0\n",
            "Cual es el numero limite del rango de numeros? 100\n",
            "Dame un numero DENTRO del rango establecido(0 a 100)100\n",
            "PRESIONA\n",
            "1 - Continuar\n",
            "0 - Salir\n",
            "quieres terminar el proceso? 1\n",
            "Dame un numero DENTRO del rango establecido(0 a 100)50\n",
            "PRESIONA\n",
            "1 - Continuar\n",
            "0 - Salir\n",
            "quieres terminar el proceso? 0\n",
            "Elegiste terminar el proceso\n",
            "El numero mayor es: 100 \n",
            "El numero menor es: 50\n",
            "La suma de todos los numeros es de: 150\n",
            "La media de los numeros es de: 75.0\n"
          ]
        }
      ],
      "source": [
        "try:\n",
        "  def nums():\n",
        "    mayor = 0\n",
        "    suma = 0\n",
        "    menor = 0\n",
        "    i = 0\n",
        "    rangoi = int(input(\"Desde que numero deseas que el rango de numeros comience? \"))\n",
        "    rangof = int(input(\"Cual es el numero limite del rango de numeros? \"))\n",
        "    aux = 1\n",
        "    while(aux):\n",
        "      n = int(input(f\"Dame un numero DENTRO del rango establecido({rangoi} a {rangof})\"))\n",
        "      z = valida_num(rangoi, rangof, n)\n",
        "\n",
        "      if z == 0:\n",
        "        print(\"Valor no valido\")\n",
        "        break\n",
        "\n",
        "      if n > 0:\n",
        "         suma = suma + n\n",
        "\n",
        "      if n > mayor:\n",
        "           mayor = n\n",
        "      elif n < menor:\n",
        "           menor = n\n",
        "\n",
        "      if i == 1:\n",
        "        menor = n\n",
        "      i = i + 1\n",
        "      print(\"PRESIONA\")\n",
        "      print(\"1 - Continuar\")\n",
        "      print(\"0 - Salir\")\n",
        "      res = int(input(\"quieres terminar el proceso? \"))\n",
        "      if res == 0:\n",
        "         print(\"Elegiste terminar el proceso\")\n",
        "         break\n",
        "\n",
        "    media = suma / (i)\n",
        "    print(f\"El numero mayor es: {mayor} \")\n",
        "    print(f\"El numero menor es: {menor}\")\n",
        "    print(f\"La suma de todos los numeros es de: {suma}\")\n",
        "    print(f\"La media de los numeros es de: {media}\")\n",
        "\n",
        "  nums()\n",
        "\n",
        "except:\n",
        "     print(\"ERROR, solo digita numeros, no letras ni caracteres especiales\")"
      ]
    },
    {
      "cell_type": "markdown",
      "source": [
        "2.- FUNCIÓN QUE GENERE 15 NÚMEROS IMPARES ENTRE 10 Y 60 o MÁXIMO DE 25 NÚMEROS. DESPLEGAR LA MEDIA DE LOS PARES Y MEDIA DE IMPARES."
      ],
      "metadata": {
        "id": "b6s6ImLQAJlc"
      }
    },
    {
      "cell_type": "code",
      "source": [
        "try:\n",
        "  def impares():\n",
        "    import random\n",
        "    par = 0\n",
        "    impar = 0\n",
        "    impares = 0\n",
        "    pares = 0\n",
        "    aux = 0\n",
        "    mediapar = 0\n",
        "    mediaimpar = 0\n",
        "    for i in range (0,25):\n",
        "      num = random.randint(10,60)\n",
        "      if num%2 == 0:\n",
        "          print(f\"{num} : Es par\")\n",
        "          pares = pares + num\n",
        "          par = par + 1\n",
        "      else:\n",
        "         print(f\"{num} : Es impar\")\n",
        "         impares = impares + num\n",
        "         impar = impar + 1\n",
        "\n",
        "      if impar == 15:\n",
        "        aux = 1\n",
        "        i = 25\n",
        "    if aux == 1:\n",
        "      print(\"proceso terminado, limite de 15 impares alcanzado\")\n",
        "    else:\n",
        "      print(\"Proceso terminado, limite de 25 numeros alcanzado\")\n",
        "\n",
        "    mediapar = pares / par\n",
        "    mediaimpar = impares / impar\n",
        "    print(f\"La media de los numeros pares es de: {mediapar}\")\n",
        "    print(f\"La media de los numeros impares es de: {mediaimpar}\")\n",
        "\n",
        "  impares()\n",
        "\n",
        "\n",
        "except:\n",
        "  print(\"ERROR\")\n"
      ],
      "metadata": {
        "colab": {
          "base_uri": "https://localhost:8080/"
        },
        "id": "IxJ4Tl1aADO0",
        "outputId": "d3c23b4f-a788-48c1-89a0-2014898bf167"
      },
      "execution_count": null,
      "outputs": [
        {
          "output_type": "stream",
          "name": "stdout",
          "text": [
            "11 : Es impar\n",
            "11 : Es impar\n",
            "57 : Es impar\n",
            "23 : Es impar\n",
            "14 : Es par\n",
            "43 : Es impar\n",
            "10 : Es par\n",
            "56 : Es par\n",
            "15 : Es impar\n",
            "56 : Es par\n",
            "24 : Es par\n",
            "33 : Es impar\n",
            "26 : Es par\n",
            "58 : Es par\n",
            "50 : Es par\n",
            "50 : Es par\n",
            "16 : Es par\n",
            "54 : Es par\n",
            "27 : Es impar\n",
            "43 : Es impar\n",
            "35 : Es impar\n",
            "18 : Es par\n",
            "34 : Es par\n",
            "38 : Es par\n",
            "45 : Es impar\n",
            "Proceso terminado, limite de 25 numeros alcanzado\n",
            "La media de los numeros pares es de: 36.0\n",
            "La media de los numeros impares es de: 31.181818181818183\n"
          ]
        }
      ]
    },
    {
      "cell_type": "markdown",
      "source": [
        "3.- FUNCIÓN QUE SIRVA PARA LEER UN RANGO DADO POR EL USUARIO. REPETIR ESTA ACCIÓN HASTA QUE EL USUARIO LO DESEE, DESPLEGAR CANTIDAD DE NUMEROS Y PROMEDIO DE LOS NUMEROS."
      ],
      "metadata": {
        "id": "mq3G2qWtANTe"
      }
    },
    {
      "cell_type": "code",
      "source": [
        "try:\n",
        "  def rango():\n",
        "    aux = 1\n",
        "    i = 0\n",
        "    suma = 0\n",
        "    media = 0\n",
        "    rangoi = int(input(\"Desde que numero deseas que comience el rango de numeros? \"))\n",
        "    rangof = int(input(\"Cual es el numero limite del rango de numero? \"))\n",
        "    while (aux):\n",
        "      n = int(input(f\"Dame un numero DENTRO del rango establecido: ({rangoi} a {rangof})\"))\n",
        "      z = valida_num(rangoi, rangof, n)\n",
        "      i = i + 1\n",
        "      suma = suma + n\n",
        "      if z == 0:\n",
        "        print(\"Valor no valido\")\n",
        "        break\n",
        "      print(\"PRESIONA\")\n",
        "      print(\"1 - Continuar\")\n",
        "      print(\"0 - Salir\")\n",
        "      res = int(input(\"Deseas terminar el proceso o continuar? \"))\n",
        "      if res == 0:\n",
        "        aux = 0\n",
        "      media = suma / i\n",
        "    print(f\"La cantidad de numeros que ingresaste es de: {i} numeros\")\n",
        "    print(f\"La media de los numeros ingresados es de: {media}\")\n",
        "  rango()\n",
        "\n",
        "except:\n",
        "  print(\"ERROR, solo digita numeros, no letras ni caracteres especiales\")"
      ],
      "metadata": {
        "id": "6em0DPzVARBk",
        "colab": {
          "base_uri": "https://localhost:8080/",
          "height": 0
        },
        "outputId": "8ac8cd47-31cc-4ce3-b358-bff1965a2d40"
      },
      "execution_count": 3,
      "outputs": [
        {
          "output_type": "stream",
          "name": "stdout",
          "text": [
            "Desde que numero deseas que comience el rango de numeros? 0\n",
            "Cual es el numero limite del rango de numero? 100\n",
            "Dame un numero DENTRO del rango establecido: (0 a 100)100\n",
            "PRESIONA\n",
            "1 - Continuar\n",
            "0 - Salir\n",
            "Deseas terminar el proceso o continuar? 1\n",
            "Dame un numero DENTRO del rango establecido: (0 a 100)75\n",
            "PRESIONA\n",
            "1 - Continuar\n",
            "0 - Salir\n",
            "Deseas terminar el proceso o continuar? 1\n",
            "Dame un numero DENTRO del rango establecido: (0 a 100)20\n",
            "PRESIONA\n",
            "1 - Continuar\n",
            "0 - Salir\n",
            "Deseas terminar el proceso o continuar? 1\n",
            "Dame un numero DENTRO del rango establecido: (0 a 100)5\n",
            "PRESIONA\n",
            "1 - Continuar\n",
            "0 - Salir\n",
            "Deseas terminar el proceso o continuar? 0\n",
            "La cantidad de numeros que ingresaste es de: 4 numeros\n",
            "La media de los numeros ingresados es de: 50.0\n"
          ]
        }
      ]
    },
    {
      "cell_type": "markdown",
      "source": [
        "4.- FUNCIÓN QUE RECIBA COMO PARÁMETRO LOS VALORES PARA EL ÁREA DE UN TRIANGULO Y RETORNE SU RESULTADO"
      ],
      "metadata": {
        "id": "TRPqfHVxARoC"
      }
    },
    {
      "cell_type": "code",
      "source": [
        "def triangulo(b,h):\n",
        "    area = (b * h) / 2\n",
        "    print(f\"El area del triangulo es de: {area}\")\n",
        "triangulo(5, 40)"
      ],
      "metadata": {
        "id": "G8_SuoqvAUkZ",
        "colab": {
          "base_uri": "https://localhost:8080/",
          "height": 0
        },
        "outputId": "af739314-32f8-4d76-9e62-9367ce2805bf"
      },
      "execution_count": 4,
      "outputs": [
        {
          "output_type": "stream",
          "name": "stdout",
          "text": [
            "El area del triangulo es de: 100.0\n"
          ]
        }
      ]
    },
    {
      "cell_type": "markdown",
      "source": [
        "5.- FUNCION QUE SIRVA QUE SIRVA PARA EVALUAR EL PROMEDIO DE 3 CALIFICACIONES DADAS, SI EL USUARIO SU CALIFICACION ES APROBADA MANDAR MSGE QUE DIGA \"felicidades avanzas al siguiente semestre\", SI LA CALIFICACIONE ESTA REPROBADA EL MENSAGE \"repetir materia \" EL ALUMNO TENDRA UN MAXIMO DE CURSAR 3 VESES LA MATERIA, SI LA REPRUEBA 3 VESES MANDAR MSGE \" lastima estas fuera de la UABC\""
      ],
      "metadata": {
        "id": "hupLYEjVAReC"
      }
    },
    {
      "cell_type": "code",
      "source": [
        "try:\n",
        "  def calif():\n",
        "   rangoi = 0\n",
        "   rangof = 100\n",
        "   for i in range (0, 3):\n",
        "      n = int(input(\"Cual es tu promedio en este semestre? (Numeros ENTEROS del 1 al 100)\"))\n",
        "      valida_num(rangoi, rangof, n)\n",
        "      if n >= 60:\n",
        "        print(\"Felicidades, tu promedio es aprobatorio y por lo tanto pasas al sigueinte semestre\")\n",
        "        break\n",
        "      elif n < 60 and i < 2:\n",
        "        print(\"Repetir materia, el promedio no es aprobatorio\")\n",
        "        continue\n",
        "      else:\n",
        "        print(\"Lastima estas fuera de la UABC, has reprobado 3 veces\")\n",
        "  calif()\n",
        "except:\n",
        "  print(\"ERROR, digita numeros ENTEROS del 1 al 100, no letras ni carateres especiales\")"
      ],
      "metadata": {
        "colab": {
          "base_uri": "https://localhost:8080/",
          "height": 0
        },
        "id": "9oKKacLozCNS",
        "outputId": "c60a4807-0f0b-4afe-8858-1c0fc8f68c1c"
      },
      "execution_count": 6,
      "outputs": [
        {
          "output_type": "stream",
          "name": "stdout",
          "text": [
            "Cual es tu promedio en este semestre? (Numeros ENTEROS del 1 al 100)40\n",
            "Repetir materia, el promedio no es aprobatorio\n",
            "Cual es tu promedio en este semestre? (Numeros ENTEROS del 1 al 100)50\n",
            "Repetir materia, el promedio no es aprobatorio\n",
            "Cual es tu promedio en este semestre? (Numeros ENTEROS del 1 al 100)59\n",
            "Lastima estas fuera de la UABC, has reprobado 3 veces\n"
          ]
        }
      ]
    },
    {
      "cell_type": "markdown",
      "source": [
        "MENU"
      ],
      "metadata": {
        "id": "3K0fLffyPLI4"
      }
    },
    {
      "cell_type": "code",
      "source": [
        "try:\n",
        "  print(\"1 - Ingresar numeros hasta que lo desees y sacar media, suma de los numeros, numero mayos y numero menor\")\n",
        "  print(\"2 - Generar numeros de entre el 10 y el 60. El programa parara cuando se llegue a 15 numeros impares o cuando se llegue a 25 numeros\")\n",
        "  print(\"3 - Validar numeros en un rango que escojas las veces que lo desees. Imprimir cantidad de numeros y el promedio de estos\")\n",
        "  print(\"4 - Imprimir el area de un triangulo cuya base es de 5 y altura es de 40\")\n",
        "  print(\"5- Tener 3 oportunidades para digitar una calificacion aprobatoria. Al primer y segundo intento se repite materia y al tercero es baja\")\n",
        "  decision = int(input(\"Digita el numero correspondiente a la accion que deseas realizar: \"))\n",
        "  if decision == 1:\n",
        "    nums()\n",
        "\n",
        "  if decision == 2:\n",
        "    impares()\n",
        "\n",
        "  if decision == 3:\n",
        "    rango()\n",
        "\n",
        "  if decision == 4:\n",
        "    triangulo(5,40)\n",
        "\n",
        "  if decision == 5:\n",
        "    calif()\n",
        "\n",
        "except:\n",
        "  print(\"ERROR, digita numeros ENTEROS del 1 al 100, no letras ni carateres especiales\")"
      ],
      "metadata": {
        "colab": {
          "base_uri": "https://localhost:8080/",
          "height": 0
        },
        "id": "-JT6OfJoPMpY",
        "outputId": "b6e2cd08-8802-4d1f-8263-d657f164e1fb"
      },
      "execution_count": 7,
      "outputs": [
        {
          "output_type": "stream",
          "name": "stdout",
          "text": [
            "1 - Ingresar numeros hasta que lo desees y sacar media, suma de los numeros, numero mayos y numero menor\n",
            "2 - Generar numeros de entre el 10 y el 60. El programa parara cuando se llegue a 15 numeros impares o cuando se llegue a 25 numeros\n",
            "3 - Validar numeros en un rango que escojas las veces que lo desees. Imprimir cantidad de numeros y el promedio de estos\n",
            "4 - Imprimir el area de un triangulo cuya base es de 5 y altura es de 40\n",
            "5- Tener 3 oportunidades para digitar una calificacion aprobatoria. Al primer y segundo intento se repite materia y al tercero es baja\n",
            "Digita el numero correspondiente a la accion que deseas realizar: 1\n",
            "Desde que numero deseas que el rango de numeros comience? 0\n",
            "Cual es el numero limite del rango de numeros? 100\n",
            "Dame un numero DENTRO del rango establecido(0 a 100)100\n",
            "PRESIONA\n",
            "1 - Continuar\n",
            "0 - Salir\n",
            "quieres terminar el proceso? 1\n",
            "Dame un numero DENTRO del rango establecido(0 a 100)50\n",
            "PRESIONA\n",
            "1 - Continuar\n",
            "0 - Salir\n",
            "quieres terminar el proceso? 0\n",
            "Elegiste terminar el proceso\n",
            "El numero mayor es: 100 \n",
            "El numero menor es: 50\n",
            "La suma de todos los numeros es de: 150\n",
            "La media de los numeros es de: 75.0\n"
          ]
        }
      ]
    }
  ]
}