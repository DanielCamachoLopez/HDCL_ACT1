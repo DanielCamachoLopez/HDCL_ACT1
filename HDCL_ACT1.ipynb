{
  "nbformat": 4,
  "nbformat_minor": 0,
  "metadata": {
    "colab": {
      "provenance": [],
      "authorship_tag": "ABX9TyP3Vntf2Pqe2LPrZbYCjcHG",
      "include_colab_link": true
    },
    "kernelspec": {
      "name": "python3",
      "display_name": "Python 3"
    },
    "language_info": {
      "name": "python"
    }
  },
  "cells": [
    {
      "cell_type": "markdown",
      "metadata": {
        "id": "view-in-github",
        "colab_type": "text"
      },
      "source": [
        "<a href=\"https://colab.research.google.com/github/DanielCamachoLopez/HDCL_ACT1/blob/main/HDCL_ACT1.ipynb\" target=\"_parent\"><img src=\"https://colab.research.google.com/assets/colab-badge.svg\" alt=\"Open In Colab\"/></a>"
      ]
    },
    {
      "cell_type": "markdown",
      "source": [
        "#Actividad 1\n",
        "Nombre: Hector Daniel Camacho Lopez\n",
        "\n",
        "Matricula: 372239\n",
        "\n",
        "Grupo: 432\n",
        "\n",
        "Fecha: 13 de Agosto de 2023"
      ],
      "metadata": {
        "id": "MQvbKsfY-3Qz"
      }
    },
    {
      "cell_type": "markdown",
      "source": [
        "1.-Programa en Python que muestra un mensaje que dice \"HOLA MUNDO\" en un solo renglon usando 2 print"
      ],
      "metadata": {
        "id": "bdX-Vkn-AykX"
      }
    },
    {
      "cell_type": "code",
      "source": [
        "print(\"HOLA\", end=\"\")\n",
        "print(\" MUNDO\")"
      ],
      "metadata": {
        "colab": {
          "base_uri": "https://localhost:8080/"
        },
        "id": "wPFAD9UY_wv6",
        "outputId": "03e5688c-02b8-4e70-f1f6-97b1c8488a9a"
      },
      "execution_count": null,
      "outputs": [
        {
          "output_type": "stream",
          "name": "stdout",
          "text": [
            "HOLA MUNDO\n"
          ]
        }
      ]
    },
    {
      "cell_type": "markdown",
      "source": [
        "2.-Programa en Python que lea dos numeros, realice la suma y despliegue la suma de los 2 numeros"
      ],
      "metadata": {
        "id": "scEuKn9QCU9p"
      }
    },
    {
      "cell_type": "code",
      "source": [
        "\n",
        "num1 = float(input(\"Deme el primer numero: \"))\n",
        "num2 = float(input(\"Deme el segundo numero: \"))\n",
        "suma = num1 + num2\n",
        "print(f\"La suma de los dos numeros es: {suma}\")"
      ],
      "metadata": {
        "colab": {
          "base_uri": "https://localhost:8080/"
        },
        "id": "_lEA64gQCoUp",
        "outputId": "fd64e61c-3ff1-4a3d-a4c4-4eff3e2c6d4e"
      },
      "execution_count": null,
      "outputs": [
        {
          "output_type": "stream",
          "name": "stdout",
          "text": [
            "Suma de dos numeros\n",
            "Deme el primer numero: 2\n",
            "Deme el segundo numero: 3\n",
            "La suma de los dos numeros es: 5\n"
          ]
        }
      ]
    },
    {
      "cell_type": "markdown",
      "source": [
        "3.-Programa en Python que lea 2 numeros y realice las 4 operaciones basicas"
      ],
      "metadata": {
        "id": "L-VfSko-Gcmw"
      }
    },
    {
      "cell_type": "code",
      "source": [
        "\n",
        "num1 = float(input(\"Deme el primer numero: \"))\n",
        "num2 = float(input(\"Deme el segundo numero: \"))\n",
        "suma = num1 + num2\n",
        "mult = num1 * num2\n",
        "div = num1 / num2\n",
        "rest = num1 - num2\n",
        "print(f\"El resultado de la suma es {suma}\")\n",
        "print(f\"El resultado de la multiplicacion es {mult}\")\n",
        "print(f\"El resultado de la division es {div}\")\n",
        "print(f\"El resultado de la resta es {rest}\")"
      ],
      "metadata": {
        "colab": {
          "base_uri": "https://localhost:8080/"
        },
        "id": "j3eTal-wHbvb",
        "outputId": "79de2852-d619-492b-a205-aa8655b5695d"
      },
      "execution_count": null,
      "outputs": [
        {
          "output_type": "stream",
          "name": "stdout",
          "text": [
            "Las 4 operaciones basicas\n",
            "Deme el primer numero: 4\n",
            "Deme el segundo numero: 2\n",
            "El resultado de la suma es 6\n",
            "El resultado de la multiplicacion es 8\n",
            "El resultado de la division es 2.0\n",
            "El resultado de la resta es 2\n"
          ]
        }
      ]
    },
    {
      "cell_type": "markdown",
      "source": [
        "4.-Programa en Python que sirve para calcular el area de un triangulo"
      ],
      "metadata": {
        "id": "DYYXArkbGvXO"
      }
    },
    {
      "cell_type": "code",
      "source": [
        "base = float(input(\"Deme la base del triangulo: \"))\n",
        "altura = float(input(\"Deme la altura del triangulo: \"))\n",
        "area = (base * altura) / 2\n",
        "print(f\"El area del triangulo es de {area}\")"
      ],
      "metadata": {
        "id": "OGdGMbxRHA74",
        "colab": {
          "base_uri": "https://localhost:8080/"
        },
        "outputId": "f327a431-d566-40e4-bca2-091cdae8a19d"
      },
      "execution_count": null,
      "outputs": [
        {
          "output_type": "stream",
          "name": "stdout",
          "text": [
            "Deme la base del triangulo: 4\n",
            "Deme la altura del triangulo: 2\n",
            "El area del triangulo es de 4.0\n"
          ]
        }
      ]
    },
    {
      "cell_type": "markdown",
      "source": [
        "5.Programa en Python que lee una medida en centimetros y despliega la misma medida pero convertida en pies y pulgadas"
      ],
      "metadata": {
        "id": "kCHSo6IOJEp-"
      }
    },
    {
      "cell_type": "code",
      "source": [
        "cm = float(input(\"Cuantos centimetros quiere convertir? \"))\n",
        "plg = cm / 2.54\n",
        "pies = cm / 30.48\n",
        "print(f\"{cm} centimetros son {plg} pulgadas\")\n",
        "print(f\"{cm} centimetros son {pies} pies\")"
      ],
      "metadata": {
        "colab": {
          "base_uri": "https://localhost:8080/"
        },
        "id": "b_xbNSv0JfTN",
        "outputId": "2d315864-4436-451f-dd98-d12e7f385026"
      },
      "execution_count": null,
      "outputs": [
        {
          "output_type": "stream",
          "name": "stdout",
          "text": [
            "Cuantos centimetros quiere convertir? 10\n",
            "10.0 centimetros son 3.937007874015748 pulgadas\n",
            "10.0 centimetros son 0.32808398950131235 pies\n"
          ]
        }
      ]
    },
    {
      "cell_type": "markdown",
      "source": [
        "6.-Programa en Python que lee una temperatura en grados centigrados y despliega en grados Fahrenheit y grados kelvin"
      ],
      "metadata": {
        "id": "X57w-0BtLzMt"
      }
    },
    {
      "cell_type": "code",
      "source": [
        "cent = float(input(\"Cuantos grados centigrados quiere convertir? \"))\n",
        "fahre = cent * (9/5) + 32\n",
        "kelv = cent + 273.15\n",
        "print(f\"{cent} grados celsius son {fahre} grados Fahrenheit\")\n",
        "print(f\"{cent} grados celsius son {kelv} grados kelvin\")"
      ],
      "metadata": {
        "colab": {
          "base_uri": "https://localhost:8080/"
        },
        "id": "zW_dhciEMQKc",
        "outputId": "a9b8a501-8311-471f-b46d-b23d848ffd11"
      },
      "execution_count": null,
      "outputs": [
        {
          "output_type": "stream",
          "name": "stdout",
          "text": [
            "Cuantos grados centigrados quiere convertir? 10\n",
            "10.0 grados celsius son 50.0 grados Fahrenheit\n",
            "10.0 grados celsius son 283.15 grados kelvin\n"
          ]
        }
      ]
    },
    {
      "cell_type": "markdown",
      "source": [
        "7.-Programa en Python que lee 4 calificaciones de un alumno, y despliega el promedio del alumno"
      ],
      "metadata": {
        "id": "BSGT761dOaUX"
      }
    },
    {
      "cell_type": "code",
      "source": [
        "cal1 = int(input(\"Cual es la primera calificacion? \"))\n",
        "cal2 = int(input(\"Cual es la segunda calificacion? \"))\n",
        "cal3 = int(input(\"Cual es la tercera calificacion? \"))\n",
        "cal4 = int(input(\"Cual es la cuarta calificacion? \"))\n",
        "prom = (cal1 + cal2 +cal3 +cal4) / 4\n",
        "print(f\"El promedio del alumno es {prom}\")"
      ],
      "metadata": {
        "colab": {
          "base_uri": "https://localhost:8080/"
        },
        "id": "4gEaDRLDOpj6",
        "outputId": "dcdf4577-5701-4871-cca2-1a7215fe3d5c"
      },
      "execution_count": null,
      "outputs": [
        {
          "output_type": "stream",
          "name": "stdout",
          "text": [
            "Cual es la primera calificacion? 100\n",
            "Cual es la segunda calificacion? 87\n",
            "Cual es la tercera calificacion? 76\n",
            "Cual es la cuarta calificacion? 100\n",
            "El promedio del alumno es 90.75\n"
          ]
        }
      ]
    }
  ]
}